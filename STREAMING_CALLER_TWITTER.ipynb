{
  "nbformat": 4,
  "nbformat_minor": 0,
  "metadata": {
    "kernelspec": {
      "display_name": "Python 3",
      "language": "python",
      "name": "python3"
    },
    "language_info": {
      "mimetype": "text/x-python",
      "name": "python",
      "pygments_lexer": "ipython3",
      "codemirror_mode": {
        "name": "ipython",
        "version": 3
      },
      "version": "3.6.9",
      "nbconvert_exporter": "python",
      "file_extension": ".py"
    },
    "name": "STREAMING_CALLER_TWITTER (1)",
    "notebookId": 2543566142394014,
    "colab": {
      "name": "STREAMING_CALLER_TWITTER.ipynb",
      "provenance": [],
      "collapsed_sections": []
    }
  },
  "cells": [
    {
      "cell_type": "code",
      "metadata": {
        "id": "hTBrGMAldJ7B",
        "outputId": "d25a2d50-efd1-4b81-c505-d96a01fb81b3"
      },
      "source": [
        "import socket\n",
        "import sys\n",
        "import requests\n",
        "import json"
      ],
      "execution_count": null,
      "outputs": [
        {
          "output_type": "display_data",
          "data": {
            "text/html": [
              "<style scoped>\n",
              "  .ansiout {\n",
              "    display: block;\n",
              "    unicode-bidi: embed;\n",
              "    white-space: pre-wrap;\n",
              "    word-wrap: break-word;\n",
              "    word-break: break-all;\n",
              "    font-family: \"Source Code Pro\", \"Menlo\", monospace;;\n",
              "    font-size: 13px;\n",
              "    color: #555;\n",
              "    margin-left: 4px;\n",
              "    line-height: 19px;\n",
              "  }\n",
              "</style>\n",
              "<div class=\"ansiout\"></div>"
            ]
          },
          "metadata": {
            "tags": []
          }
        }
      ]
    },
    {
      "cell_type": "code",
      "metadata": {
        "id": "bpu3ooQOdJ7O",
        "outputId": "790c95a9-8661-49f3-f30d-8d2c8991e31f"
      },
      "source": [
        "def send_tweets_to_spark(full_tweet, tcp_connection):\n",
        "    try:\n",
        "        print(\"Content: \" + full_tweet)\n",
        "        full_tweets = full_tweet + \"\\n\"\n",
        "        tcp_connection.send(full_tweets.encode('utf-8'))\n",
        "    except:\n",
        "        e = sys.exc_info()[0]\n",
        "        print(\"Error: %s\" % e)"
      ],
      "execution_count": null,
      "outputs": [
        {
          "output_type": "display_data",
          "data": {
            "text/html": [
              "<style scoped>\n",
              "  .ansiout {\n",
              "    display: block;\n",
              "    unicode-bidi: embed;\n",
              "    white-space: pre-wrap;\n",
              "    word-wrap: break-word;\n",
              "    word-break: break-all;\n",
              "    font-family: \"Source Code Pro\", \"Menlo\", monospace;;\n",
              "    font-size: 13px;\n",
              "    color: #555;\n",
              "    margin-left: 4px;\n",
              "    line-height: 19px;\n",
              "  }\n",
              "</style>\n",
              "<div class=\"ansiout\"></div>"
            ]
          },
          "metadata": {
            "tags": []
          }
        }
      ]
    },
    {
      "cell_type": "code",
      "metadata": {
        "id": "4IeZqbYRdJ7W",
        "outputId": "716e51d6-7a42-4837-af45-5a4c39473d22"
      },
      "source": [
        "TCP_IP = \"localhost\"\n",
        "TCP_PORT = 10002\n",
        "conn = None"
      ],
      "execution_count": null,
      "outputs": [
        {
          "output_type": "display_data",
          "data": {
            "text/html": [
              "<style scoped>\n",
              "  .ansiout {\n",
              "    display: block;\n",
              "    unicode-bidi: embed;\n",
              "    white-space: pre-wrap;\n",
              "    word-wrap: break-word;\n",
              "    word-break: break-all;\n",
              "    font-family: \"Source Code Pro\", \"Menlo\", monospace;;\n",
              "    font-size: 13px;\n",
              "    color: #555;\n",
              "    margin-left: 4px;\n",
              "    line-height: 19px;\n",
              "  }\n",
              "</style>\n",
              "<div class=\"ansiout\"></div>"
            ]
          },
          "metadata": {
            "tags": []
          }
        }
      ]
    },
    {
      "cell_type": "code",
      "metadata": {
        "id": "qUPgN-Z5dJ7e",
        "outputId": "1a3164a0-22a6-4895-9695-7ff4196637d0"
      },
      "source": [
        "s = socket.socket(socket.AF_INET, socket.SOCK_STREAM)"
      ],
      "execution_count": null,
      "outputs": [
        {
          "output_type": "display_data",
          "data": {
            "text/html": [
              "<style scoped>\n",
              "  .ansiout {\n",
              "    display: block;\n",
              "    unicode-bidi: embed;\n",
              "    white-space: pre-wrap;\n",
              "    word-wrap: break-word;\n",
              "    word-break: break-all;\n",
              "    font-family: \"Source Code Pro\", \"Menlo\", monospace;;\n",
              "    font-size: 13px;\n",
              "    color: #555;\n",
              "    margin-left: 4px;\n",
              "    line-height: 19px;\n",
              "  }\n",
              "</style>\n",
              "<div class=\"ansiout\"></div>"
            ]
          },
          "metadata": {
            "tags": []
          }
        }
      ]
    },
    {
      "cell_type": "code",
      "metadata": {
        "id": "faJUyemFdJ7m",
        "outputId": "d9f1cf82-12be-4bda-a57d-87b000c2b489"
      },
      "source": [
        "s.bind((TCP_IP, TCP_PORT))"
      ],
      "execution_count": null,
      "outputs": [
        {
          "output_type": "display_data",
          "data": {
            "text/html": [
              "<style scoped>\n",
              "  .ansiout {\n",
              "    display: block;\n",
              "    unicode-bidi: embed;\n",
              "    white-space: pre-wrap;\n",
              "    word-wrap: break-word;\n",
              "    word-break: break-all;\n",
              "    font-family: \"Source Code Pro\", \"Menlo\", monospace;;\n",
              "    font-size: 13px;\n",
              "    color: #555;\n",
              "    margin-left: 4px;\n",
              "    line-height: 19px;\n",
              "  }\n",
              "</style>\n",
              "<div class=\"ansiout\"></div>"
            ]
          },
          "metadata": {
            "tags": []
          }
        }
      ]
    },
    {
      "cell_type": "code",
      "metadata": {
        "id": "m1ql1mbDdJ7t",
        "outputId": "f3b75fcd-57cd-4277-ca3a-c3013005ef7a"
      },
      "source": [
        "s.listen(1)"
      ],
      "execution_count": null,
      "outputs": [
        {
          "output_type": "display_data",
          "data": {
            "text/html": [
              "<style scoped>\n",
              "  .ansiout {\n",
              "    display: block;\n",
              "    unicode-bidi: embed;\n",
              "    white-space: pre-wrap;\n",
              "    word-wrap: break-word;\n",
              "    word-break: break-all;\n",
              "    font-family: \"Source Code Pro\", \"Menlo\", monospace;;\n",
              "    font-size: 13px;\n",
              "    color: #555;\n",
              "    margin-left: 4px;\n",
              "    line-height: 19px;\n",
              "  }\n",
              "</style>\n",
              "<div class=\"ansiout\"></div>"
            ]
          },
          "metadata": {
            "tags": []
          }
        }
      ]
    },
    {
      "cell_type": "code",
      "metadata": {
        "id": "ftvKaq1rdJ71",
        "outputId": "7b89ae73-5c5e-4a75-819c-46b9ee8dbe7b"
      },
      "source": [
        "(conn, addr) = s.accept()"
      ],
      "execution_count": null,
      "outputs": [
        {
          "output_type": "display_data",
          "data": {
            "text/html": [
              "<style scoped>\n",
              "  .ansiout {\n",
              "    display: block;\n",
              "    unicode-bidi: embed;\n",
              "    white-space: pre-wrap;\n",
              "    word-wrap: break-word;\n",
              "    word-break: break-all;\n",
              "    font-family: \"Source Code Pro\", \"Menlo\", monospace;;\n",
              "    font-size: 13px;\n",
              "    color: #555;\n",
              "    margin-left: 4px;\n",
              "    line-height: 19px;\n",
              "  }\n",
              "</style>\n",
              "<div class=\"ansiout\"></div>"
            ]
          },
          "metadata": {
            "tags": []
          }
        }
      ]
    },
    {
      "cell_type": "code",
      "metadata": {
        "id": "e59Iu7uwdJ7-",
        "outputId": "1f1c7b38-b6bd-4717-bb04-dfd92e26ea5c"
      },
      "source": [
        "consumer_key = \"\"\n",
        "consumer_secret = \"\"\n",
        "\n",
        "access_token = \"\"\n",
        "access_token_secret = \"\""
      ],
      "execution_count": null,
      "outputs": [
        {
          "output_type": "display_data",
          "data": {
            "text/html": [
              "<style scoped>\n",
              "  .ansiout {\n",
              "    display: block;\n",
              "    unicode-bidi: embed;\n",
              "    white-space: pre-wrap;\n",
              "    word-wrap: break-word;\n",
              "    word-break: break-all;\n",
              "    font-family: \"Source Code Pro\", \"Menlo\", monospace;;\n",
              "    font-size: 13px;\n",
              "    color: #555;\n",
              "    margin-left: 4px;\n",
              "    line-height: 19px;\n",
              "  }\n",
              "</style>\n",
              "<div class=\"ansiout\"></div>"
            ]
          },
          "metadata": {
            "tags": []
          }
        }
      ]
    },
    {
      "cell_type": "code",
      "metadata": {
        "id": "Lh1SvIhHdJ8I",
        "outputId": "b30b6eb4-8fbc-48fc-83ba-1cbbc79a6b0b"
      },
      "source": [
        "import tweepy\n",
        "\n",
        "auth = tweepy.OAuthHandler(consumer_key, consumer_secret)\n",
        "auth.set_access_token(access_token, access_token_secret)\n",
        "\n",
        "api = tweepy.API(auth)"
      ],
      "execution_count": null,
      "outputs": [
        {
          "output_type": "display_data",
          "data": {
            "text/html": [
              "<style scoped>\n",
              "  .ansiout {\n",
              "    display: block;\n",
              "    unicode-bidi: embed;\n",
              "    white-space: pre-wrap;\n",
              "    word-wrap: break-word;\n",
              "    word-break: break-all;\n",
              "    font-family: \"Source Code Pro\", \"Menlo\", monospace;;\n",
              "    font-size: 13px;\n",
              "    color: #555;\n",
              "    margin-left: 4px;\n",
              "    line-height: 19px;\n",
              "  }\n",
              "</style>\n",
              "<div class=\"ansiout\"></div>"
            ]
          },
          "metadata": {
            "tags": []
          }
        }
      ]
    },
    {
      "cell_type": "code",
      "metadata": {
        "id": "VtwcEWQBdJ8P",
        "outputId": "3d8d32e5-ed10-49f9-ce57-6a7dddc39f61"
      },
      "source": [
        "class MyStreamListener(tweepy.StreamListener):\n",
        "    def __init__(self,conn):\n",
        "        super(MyStreamListener, self).__init__()\n",
        "        self.conn = conn\n",
        "    def on_status(self, status):\n",
        "      if 'RT @' not in status.text:\n",
        "            print(\"Sending tweet: \" + status.text)\n",
        "            tweet = status.text.rstrip()\n",
        "            send_tweets_to_spark(tweet, self.conn)\n",
        "        "
      ],
      "execution_count": null,
      "outputs": [
        {
          "output_type": "display_data",
          "data": {
            "text/html": [
              "<style scoped>\n",
              "  .ansiout {\n",
              "    display: block;\n",
              "    unicode-bidi: embed;\n",
              "    white-space: pre-wrap;\n",
              "    word-wrap: break-word;\n",
              "    word-break: break-all;\n",
              "    font-family: \"Source Code Pro\", \"Menlo\", monospace;;\n",
              "    font-size: 13px;\n",
              "    color: #555;\n",
              "    margin-left: 4px;\n",
              "    line-height: 19px;\n",
              "  }\n",
              "</style>\n",
              "<div class=\"ansiout\"></div>"
            ]
          },
          "metadata": {
            "tags": []
          }
        }
      ]
    },
    {
      "cell_type": "code",
      "metadata": {
        "id": "9ul6N9tPdJ8Y",
        "outputId": "3823d336-b46a-4591-bd39-5c54ed846fb8"
      },
      "source": [
        "myStreamListener = MyStreamListener(conn)\n",
        "myStream = tweepy.Stream(auth = api.auth, listener=myStreamListener)"
      ],
      "execution_count": null,
      "outputs": [
        {
          "output_type": "display_data",
          "data": {
            "text/html": [
              "<style scoped>\n",
              "  .ansiout {\n",
              "    display: block;\n",
              "    unicode-bidi: embed;\n",
              "    white-space: pre-wrap;\n",
              "    word-wrap: break-word;\n",
              "    word-break: break-all;\n",
              "    font-family: \"Source Code Pro\", \"Menlo\", monospace;;\n",
              "    font-size: 13px;\n",
              "    color: #555;\n",
              "    margin-left: 4px;\n",
              "    line-height: 19px;\n",
              "  }\n",
              "</style>\n",
              "<div class=\"ansiout\"></div>"
            ]
          },
          "metadata": {
            "tags": []
          }
        }
      ]
    },
    {
      "cell_type": "code",
      "metadata": {
        "id": "c6mYAVYidJ8g",
        "outputId": "f707690e-8bec-4c09-abec-95cda0fbbce8"
      },
      "source": [
        "myStream.filter(track=['Trump'], languages=[\"en\"])"
      ],
      "execution_count": null,
      "outputs": [
        {
          "output_type": "display_data",
          "data": {
            "text/html": [
              "<style scoped>\n",
              "  .ansiout {\n",
              "    display: block;\n",
              "    unicode-bidi: embed;\n",
              "    white-space: pre-wrap;\n",
              "    word-wrap: break-word;\n",
              "    word-break: break-all;\n",
              "    font-family: \"Source Code Pro\", \"Menlo\", monospace;;\n",
              "    font-size: 13px;\n",
              "    color: #555;\n",
              "    margin-left: 4px;\n",
              "    line-height: 19px;\n",
              "  }\n",
              "</style>\n",
              "<div class=\"ansiout\">Sending tweet: @PalomaLLaneza Yo ayer estuve por mi oficina un poquito, aunque estoy yendo de pascuas a ramos, pero me viene bien a la neurona\n",
              "Content: @PalomaLLaneza Yo ayer estuve por mi oficina un poquito, aunque estoy yendo de pascuas a ramos, pero me viene bien a la neurona\n",
              "Sending tweet: @anndreatm_ Y que esperar si encima lleva en sus apellido un “RAMOS” 😂\n",
              "Content: @anndreatm_ Y que esperar si encima lleva en sus apellido un “RAMOS” 😂\n",
              "Sending tweet: Llegamos y nos destrozó el corazón el ver a la perrita así, hasta parecía que le daba pena el estar así, solo esper… https://t.co/VdKJFPtbjV\n",
              "Content: Llegamos y nos destrozó el corazón el ver a la perrita así, hasta parecía que le daba pena el estar así, solo esper… https://t.co/VdKJFPtbjV\n",
              "Sending tweet: Si @hcapriles hubiese sido el presidente; hoy en día Venezuela sería distinta. Tal vez estuviéramos en Cuarentena,… https://t.co/q0v5P1mF2o\n",
              "Content: Si @hcapriles hubiese sido el presidente; hoy en día Venezuela sería distinta. Tal vez estuviéramos en Cuarentena,… https://t.co/q0v5P1mF2o\n",
              "Sending tweet: ¡El siguiente jueves!\n",
              "\n",
              "El programa Bastiat Society de @AIER en Mexicali invita a sus miembros a un evento virtual c… https://t.co/hZuw0T3dVN\n",
              "Content: ¡El siguiente jueves!\n",
              "\n",
              "El programa Bastiat Society de @AIER en Mexicali invita a sus miembros a un evento virtual c… https://t.co/hZuw0T3dVN\n",
              "Sending tweet: No te pierdas mi último artículo: ¿Cómo importar mascarillas de protección para uso médico o personal? https://t.co/QixDqhvuIk vía @LinkedIn\n",
              "Content: No te pierdas mi último artículo: ¿Cómo importar mascarillas de protección para uso médico o personal? https://t.co/QixDqhvuIk vía @LinkedIn\n",
              "Sending tweet: @juanch0_m Me parece que Ramos te rinde mejor.\n",
              "Content: @juanch0_m Me parece que Ramos te rinde mejor.\n",
              "Sending tweet: Estamos en @ComisionPrimera discutiendo sobre la posibilidad de cambiar la metodología de los debates de… https://t.co/gYYwgBFQHp\n",
              "Content: Estamos en @ComisionPrimera discutiendo sobre la posibilidad de cambiar la metodología de los debates de… https://t.co/gYYwgBFQHp\n",
              "Sending tweet: Lo único que he visto de Jordan es Space Jump y éramos mucho de Bugs Bunny. Ah, también hemos aprendido quién es el… https://t.co/H6ZFzvH2QB\n",
              "Content: Lo único que he visto de Jordan es Space Jump y éramos mucho de Bugs Bunny. Ah, también hemos aprendido quién es el… https://t.co/H6ZFzvH2QB\n",
              "Sending tweet: @Bbva hunde financieramente c/intereses impagables a quienes tenemos hipotecas y nos acogemos a 3m de”gracia”.El ar… https://t.co/4Fz6LnlX1q\n",
              "Content: @Bbva hunde financieramente c/intereses impagables a quienes tenemos hipotecas y nos acogemos a 3m de”gracia”.El ar… https://t.co/4Fz6LnlX1q\n",
              "Sending tweet: Mañalich diciendo que la falta de confianza perjudicó a que esto explotara. \n",
              "¿Se imaginan hubiéramos confiado en qu… https://t.co/uyQ6mxIUxn\n",
              "Content: Mañalich diciendo que la falta de confianza perjudicó a que esto explotara. \n",
              "¿Se imaginan hubiéramos confiado en qu… https://t.co/uyQ6mxIUxn\n",
              "Sending tweet: @mundodabola S.Ramos\n",
              "Content: @mundodabola S.Ramos\n",
              "Sending tweet: Que le tenemos que hacer al forro este ? Si estuviéramos en Corea del Norte ya estaría en campo de concentración po… https://t.co/u6ZECMDgiY\n",
              "Content: Que le tenemos que hacer al forro este ? Si estuviéramos en Corea del Norte ya estaría en campo de concentración po… https://t.co/u6ZECMDgiY\n",
              "Sending tweet: @cristobalsoria No digas nada del penalti antes del fuera de juego a Ramos. Además, que dices de la Uefa robada al… https://t.co/70dAIu5xmV\n",
              "Content: @cristobalsoria No digas nada del penalti antes del fuera de juego a Ramos. Además, que dices de la Uefa robada al… https://t.co/70dAIu5xmV\n",
              "Sending tweet: Acordándome de @camiloramirezc y su amor por Heiddeger:&#34;Astillado queda también el imaginario del ser para la muert… https://t.co/TQvuWmIwHy\n",
              "Content: Acordándome de @camiloramirezc y su amor por Heiddeger:&#34;Astillado queda también el imaginario del ser para la muert… https://t.co/TQvuWmIwHy\n",
              "Sending tweet: Sabía que el índice de idiotas por kilómetro cuadrado es elevado en nuestro país, pero escuchar a unos y otros reiv… https://t.co/3OULsoJCi5\n",
              "Content: Sabía que el índice de idiotas por kilómetro cuadrado es elevado en nuestro país, pero escuchar a unos y otros reiv… https://t.co/3OULsoJCi5\n",
              "Sending tweet: @Mvpch9 Claro,si no hubiéramos visto lo tiernos que serían juntos pero es normal que eso lo ocultase ahí le doy la… https://t.co/SAOOIIgDhC\n",
              "Content: @Mvpch9 Claro,si no hubiéramos visto lo tiernos que serían juntos pero es normal que eso lo ocultase ahí le doy la… https://t.co/SAOOIIgDhC\n",
              "Sending tweet: @carlesenric Eso es lo que tendríamos que hacer en España,  si tuviéramos alguna marca de coche claro....\n",
              "Content: @carlesenric Eso es lo que tendríamos que hacer en España,  si tuviéramos alguna marca de coche claro....\n",
              "Sending tweet: Pero cómo coño vas a justificar una mala decisión con otra.\n",
              "Content: Pero cómo coño vas a justificar una mala decisión con otra.\n",
              "Sending tweet: @Mariana_Diaz_Lu Buena esa. Reforma sabrá cuántas llamadas recibimos los ciudadanos de supuestos miembros de la del… https://t.co/eVqPaT8C1j\n",
              "Content: @Mariana_Diaz_Lu Buena esa. Reforma sabrá cuántas llamadas recibimos los ciudadanos de supuestos miembros de la del… https://t.co/eVqPaT8C1j\n",
              "Sending tweet: @Torren__ Si no sabes leer “entrelíneas”... y si, no pitar el fuera de juego de ramos, fue un error no intencionado… https://t.co/w4jvjPpWlE\n",
              "Content: @Torren__ Si no sabes leer “entrelíneas”... y si, no pitar el fuera de juego de ramos, fue un error no intencionado… https://t.co/w4jvjPpWlE\n",
              "Sending tweet: ¡El coronavirus mata! \n",
              "Debemos comportarnos como si lo tuviéramos para cuidar a los demás, en especial a👇🏽\n",
              "\n",
              "📍Quirog… https://t.co/J02JJvx8RR\n",
              "Content: ¡El coronavirus mata! \n",
              "Debemos comportarnos como si lo tuviéramos para cuidar a los demás, en especial a👇🏽\n",
              "\n",
              "📍Quirog… https://t.co/J02JJvx8RR\n",
              "Sending tweet: @NotLikeYouRP Gracias, señor Harker. No esperaba que nos volviéramos a encontrar.\n",
              "Content: @NotLikeYouRP Gracias, señor Harker. No esperaba que nos volviéramos a encontrar.\n",
              "Sending tweet: Si le importa poco su familia, pues rómpala y después vea cómo rayos se curan. A los que nos importa nuestra gente… https://t.co/zgm2JpUZL4\n",
              "Content: Si le importa poco su familia, pues rómpala y después vea cómo rayos se curan. A los que nos importa nuestra gente… https://t.co/zgm2JpUZL4\n",
              "Sending tweet: #AlertaEnElTiempo #Viernes se avecina una línea de tormentas en horas de la noche. No descarto #Granizo así como al… https://t.co/homyvv2aeJ\n",
              "Content: #AlertaEnElTiempo #Viernes se avecina una línea de tormentas en horas de la noche. No descarto #Granizo así como al… https://t.co/homyvv2aeJ\n",
              "Sending tweet: Un homenaje a las habitaciones que hoy acogen nuestro confinamiento. Algunas hospitalarias a las que quisiéramos en… https://t.co/OdOMAYD2xU\n",
              "Content: Un homenaje a las habitaciones que hoy acogen nuestro confinamiento. Algunas hospitalarias a las que quisiéramos en… https://t.co/OdOMAYD2xU\n",
              "Sending tweet: @InterCliente Tuvieras buen día si tuviéramos buen internet\n",
              "Content: @InterCliente Tuvieras buen día si tuviéramos buen internet\n",
              "Sending tweet: Por el centenario de los Castillos se celebró un ciclo de conferencias que está pendiente de publicar, sería muy in… https://t.co/lkzzSEQUhJ\n",
              "Content: Por el centenario de los Castillos se celebró un ciclo de conferencias que está pendiente de publicar, sería muy in… https://t.co/lkzzSEQUhJ\n",
              "Sending tweet: @poderciudadan @esquenololees @CoronaVid19 @pnique Sabes que la competencia en el metro, renfe, etc...era de la com… https://t.co/81gmI9IC3v\n",
              "Content: @poderciudadan @esquenololees @CoronaVid19 @pnique Sabes que la competencia en el metro, renfe, etc...era de la com… https://t.co/81gmI9IC3v\n",
              "Sending tweet: Un gran abrazo amiga Claudia Ramos con motivo de tu cumpleaños. Que este día sea para ti un momento de verdadera al… https://t.co/OftCbSbgGq\n",
              "Content: Un gran abrazo amiga Claudia Ramos con motivo de tu cumpleaños. Que este día sea para ti un momento de verdadera al… https://t.co/OftCbSbgGq\n",
              "Sending tweet: 😈 jueves #Tbt ... Éramos felices y no lo sabiamos! \n",
              "\n",
              "#QuedateEnCasa \n",
              "Necesitamos que El Cruising En Sivar regrese!… https://t.co/LkGW8Iyi9x\n",
              "Content: 😈 jueves #Tbt ... Éramos felices y no lo sabiamos! \n",
              "\n",
              "#QuedateEnCasa \n",
              "Necesitamos que El Cruising En Sivar regrese!… https://t.co/LkGW8Iyi9x\n",
              "Sending tweet: &#34;La crisis por el coronavirus hizo que pensáramos más en la familia. Además, ayudó a entender que ser familia impli… https://t.co/Q5gQWvpb6D\n",
              "Content: &#34;La crisis por el coronavirus hizo que pensáramos más en la familia. Además, ayudó a entender que ser familia impli… https://t.co/Q5gQWvpb6D\n",
              "Sending tweet: Qué será de la  vida de Ramos Allup? Callaito con el sueldazo de $ 5000\n",
              "Content: Qué será de la  vida de Ramos Allup? Callaito con el sueldazo de $ 5000\n",
              "Sending tweet: @haydar_antony @tiburoncanibal @julisalazarmeza @AtlJunior @comu_junior @JuanSalvadorB @RicardoTorrents @PTiburona… https://t.co/kT2htZSFCR\n",
              "Content: @haydar_antony @tiburoncanibal @julisalazarmeza @AtlJunior @comu_junior @JuanSalvadorB @RicardoTorrents @PTiburona… https://t.co/kT2htZSFCR\n",
              "Sending tweet: @DrFortinMagana Pobre pendejo q todos sepan? Si lo q nosotros quisiéramos ver es q les den una vergiada por terengo… https://t.co/7tZICXdLbR\n",
              "Content: @DrFortinMagana Pobre pendejo q todos sepan? Si lo q nosotros quisiéramos ver es q les den una vergiada por terengo… https://t.co/7tZICXdLbR\n",
              "Sending tweet: A lo mejor hoy cae algo,que he estado trabajando en ello,al más puro estilo Chapu🤣\n",
              "Content: A lo mejor hoy cae algo,que he estado trabajando en ello,al más puro estilo Chapu🤣\n",
              "Sending tweet: @Lemarsito1 @crpipi21 @elchiringuitotv Si es fuera de juego de Ramos se dice y no pasa nada.\n",
              "Content: @Lemarsito1 @crpipi21 @elchiringuitotv Si es fuera de juego de Ramos se dice y no pasa nada.\n",
              "Sending tweet: Meter miedo y luego &#34;condenar&#34; las amenazas al @Reforma , como si no conociéramos las mañas de López y su horda de… https://t.co/MZqMGgTzmb\n",
              "Content: Meter miedo y luego &#34;condenar&#34; las amenazas al @Reforma , como si no conociéramos las mañas de López y su horda de… https://t.co/MZqMGgTzmb\n",
              "Sending tweet: @en_hermanas No sabíamos que éramos así...\n",
              "Content: @en_hermanas No sabíamos que éramos así...\n",
              "Sending tweet: @Denuncioelmal @pazteti @JoseNavarroSV Ya estuvieras preso denunciante 🤣🤣🤣 primero si no tuviéramos ( vos incluido)… https://t.co/xm2lnyTV8F\n",
              "Content: @Denuncioelmal @pazteti @JoseNavarroSV Ya estuvieras preso denunciante 🤣🤣🤣 primero si no tuviéramos ( vos incluido)… https://t.co/xm2lnyTV8F\n",
              "Sending tweet: el otro día éramos 3 adscritos, 0 residentes y 10 nurses en un paro y saben cuantas enfermeras se ocuparon de fárma… https://t.co/mR4mPNbPoN\n",
              "Content: el otro día éramos 3 adscritos, 0 residentes y 10 nurses en un paro y saben cuantas enfermeras se ocuparon de fárma… https://t.co/mR4mPNbPoN\n",
              "Sending tweet: Hoy en un supuesto &#34;No hay mal que por bien no venga&#34;\n",
              "Content: Hoy en un supuesto &#34;No hay mal que por bien no venga&#34;\n",
              "Sending tweet: @Armijo8 @VicRMCF_ @elchiringuitotv Claro porque en un balón parado los jugadores profesionales no pelean unos por… https://t.co/JmbDSmSGeI\n",
              "Content: @Armijo8 @VicRMCF_ @elchiringuitotv Claro porque en un balón parado los jugadores profesionales no pelean unos por… https://t.co/JmbDSmSGeI\n",
              "Sending tweet: @DesireOfAngel @1dolar1peso @Simpartido Si Menem hubiera sido honesto hoy tendríamos dos veces y media el PBI que t… https://t.co/1wQGAvxdQ5\n",
              "Content: @DesireOfAngel @1dolar1peso @Simpartido Si Menem hubiera sido honesto hoy tendríamos dos veces y media el PBI que t… https://t.co/1wQGAvxdQ5\n",
              "Sending tweet: @Lauravvvvv Si fuéramos ahora nos subiría al escenario JAJAJAJA 💔💔💔💔\n",
              "Content: @Lauravvvvv Si fuéramos ahora nos subiría al escenario JAJAJAJA 💔💔💔💔\n",
              "Sending tweet: Como diría Frida Kahlo:\n",
              "\n",
              "Presidente Duque, los colombianos queremos hechos, no palabras. Si quisiéramos palabras, l… https://t.co/q0YbnkxaHV\n",
              "Content: Como diría Frida Kahlo:\n",
              "\n",
              "Presidente Duque, los colombianos queremos hechos, no palabras. Si quisiéramos palabras, l… https://t.co/q0YbnkxaHV\n",
              "Sending tweet: #TrenSarmiento\n",
              "Ramal Once-Moreno 🚫\n",
              "Servicio con demoras y cancelaciones x accidente(suicidio aparentemente)\n",
              "en Ramos Mejia\n",
              "Content: #TrenSarmiento\n",
              "Ramal Once-Moreno 🚫\n",
              "Servicio con demoras y cancelaciones x accidente(suicidio aparentemente)\n",
              "en Ramos Mejia\n",
              "Sending tweet: NOS A DADO LIBERTAD I 20200510 PASTOR SILVINO RAMOS https://t.co/449iP7pcmh vía @YouTube\n",
              "Content: NOS A DADO LIBERTAD I 20200510 PASTOR SILVINO RAMOS https://t.co/449iP7pcmh vía @YouTube\n",
              "Sending tweet: @DaniikRM_ Antes de q peine Bale, Savic ya está agarrando a Ramos...es penalti!!! \n",
              "Sin olvidar q después hizo otro,… https://t.co/Xx2PcXVuaa\n",
              "Content: @DaniikRM_ Antes de q peine Bale, Savic ya está agarrando a Ramos...es penalti!!! \n",
              "Sin olvidar q después hizo otro,… https://t.co/Xx2PcXVuaa\n",
              "Sending tweet: Este gobierno sabía cómo se iba a comportar el virus. Que aunque pudiéramos tener la mejor mitigación iba a ser ins… https://t.co/MYJHUHGpse\n",
              "Content: Este gobierno sabía cómo se iba a comportar el virus. Que aunque pudiéramos tener la mejor mitigación iba a ser ins… https://t.co/MYJHUHGpse\n",
              "Sending tweet: Lógico, éramos River. No somos San Pablo, no somos Independiente, no somos Fluminense o Santos. River es grande de… https://t.co/1nmzuNH4BC\n",
              "Content: Lógico, éramos River. No somos San Pablo, no somos Independiente, no somos Fluminense o Santos. River es grande de… https://t.co/1nmzuNH4BC\n",
              "Sending tweet: @Nopanaden Pero las mascarillas no éramos necesarias porque bla bla ...\n",
              "Content: @Nopanaden Pero las mascarillas no éramos necesarias porque bla bla ...\n",
              "Sending tweet: @angeloide Éramos felices y no lo sabíamos\n",
              "Content: @angeloide Éramos felices y no lo sabíamos\n",
              "Sending tweet: Ese afán de competir!!! Debiéramos contentarnos con no estar como USA o Brasil, que tienen a payasos como president… https://t.co/pAzjzo8w0T\n",
              "Content: Ese afán de competir!!! Debiéramos contentarnos con no estar como USA o Brasil, que tienen a payasos como president… https://t.co/pAzjzo8w0T\n",
              "Sending tweet: SON UNO GENIOS!!!!!!\n",
              "Porque no lo pensamos todos antes???? \n",
              "Algo así como &#34;fiesta de varicela&#34; cuando éramos chiqui… https://t.co/5VNYL1lVTV\n",
              "Content: SON UNO GENIOS!!!!!!\n",
              "Porque no lo pensamos todos antes???? \n",
              "Algo así como &#34;fiesta de varicela&#34; cuando éramos chiqui… https://t.co/5VNYL1lVTV\n",
              "Sending tweet: @s3cruat @Twiterofilo1 He sido benévolo incluso jajajaja solo he hablado de las que tuvieron incidencia, tambien se… https://t.co/agIzjtZmlQ\n",
              "Content: @s3cruat @Twiterofilo1 He sido benévolo incluso jajajaja solo he hablado de las que tuvieron incidencia, tambien se… https://t.co/agIzjtZmlQ\n",
              "Sending tweet: @gaygigante &#34;dijeron cuarentena? Uy escuché que saliéramos de Santiago&#34;\n",
              "Content: @gaygigante &#34;dijeron cuarentena? Uy escuché que saliéramos de Santiago&#34;\n",
              "Sending tweet: @nacholozano Esa pobreza, desigualdad, impunidad se generó haces 80 años pendejo, o eres de los weyes que creen qué… https://t.co/9VJB2EURVh\n",
              "Content: @nacholozano Esa pobreza, desigualdad, impunidad se generó haces 80 años pendejo, o eres de los weyes que creen qué… https://t.co/9VJB2EURVh\n",
              "Sending tweet: @doniphon62 @rubenuria @GoalEspana Después de leer el articulo del panfleto, solo dice lo que ya sabíamos QUE EL GO… https://t.co/hRGDCvhPEg\n",
              "Content: @doniphon62 @rubenuria @GoalEspana Después de leer el articulo del panfleto, solo dice lo que ya sabíamos QUE EL GO… https://t.co/hRGDCvhPEg\n",
              "Sending tweet: Juan Ramos Padilla: &#34;El Poder Judicial está infectado&#34;: Antes de la audiencia en el Consejo de la ... @radiocaput https://t.co/gcuHrQaGPg\n",
              "Content: Juan Ramos Padilla: &#34;El Poder Judicial está infectado&#34;: Antes de la audiencia en el Consejo de la ... @radiocaput https://t.co/gcuHrQaGPg\n",
              "Sending tweet: @DianaSumerce @FT_Col @LuisErnestoGL La otra vez, la hijueputió el hijo de ramos, otro lacayo de uribe, y no dijo n… https://t.co/cGdoh5Wzx2\n",
              "Content: @DianaSumerce @FT_Col @LuisErnestoGL La otra vez, la hijueputió el hijo de ramos, otro lacayo de uribe, y no dijo n… https://t.co/cGdoh5Wzx2\n",
              "Sending tweet: Explicandole a @patitulindu que con @GuatonPolar éramos técnicamente vecinos de pobla. Aunque nosotros no nos ibamo… https://t.co/5RHBZmCN5k\n",
              "Content: Explicandole a @patitulindu que con @GuatonPolar éramos técnicamente vecinos de pobla. Aunque nosotros no nos ibamo… https://t.co/5RHBZmCN5k\n",
              "Sending tweet: nos dijo que probablemente la llevarían a la UCI en una media hora y que esperáramos en la sala de espera de esa pl… https://t.co/iPqxrP1n6R\n",
              "Content: nos dijo que probablemente la llevarían a la UCI en una media hora y que esperáramos en la sala de espera de esa pl… https://t.co/iPqxrP1n6R\n",
              "Sending tweet: Empezamos hablando pues lo común que todos hacen, diciendo que países somos y de que parte [porque éramos del mismo… https://t.co/F57EcE8Zhe\n",
              "Content: Empezamos hablando pues lo común que todos hacen, diciendo que países somos y de que parte [porque éramos del mismo… https://t.co/F57EcE8Zhe\n",
              "Sending tweet: ¿Te gustaría que todos conociéramos alguna historia que hayas vivido en Bogotá y te parezca importante?\n",
              "\n",
              "Si quieres… https://t.co/TbCaOpLrJF\n",
              "Content: ¿Te gustaría que todos conociéramos alguna historia que hayas vivido en Bogotá y te parezca importante?\n",
              "\n",
              "Si quieres… https://t.co/TbCaOpLrJF\n",
              "Sending tweet: @silvajonathan01 @ClaudiaLopez Verdad no sabe que inventarse, como si viviéramos en un país como Venezuela, que en… https://t.co/YlaPSvL68P\n",
              "Content: @silvajonathan01 @ClaudiaLopez Verdad no sabe que inventarse, como si viviéramos en un país como Venezuela, que en… https://t.co/YlaPSvL68P\n",
              "Sending tweet: @consumogob Qué manera de hacer política..las FFP2 sin filtro son las que protegen al que las lleva y a los demás..… https://t.co/oZhvwjiIe1\n",
              "Content: @consumogob Qué manera de hacer política..las FFP2 sin filtro son las que protegen al que las lleva y a los demás..… https://t.co/oZhvwjiIe1\n",
              "Sending tweet: #CagamosPorCulpaDePiñera ¿En serio? \n",
              "¿O sea Piñera nos dijo q no respetáramos las cuarentenas, q saliéramos a compr… https://t.co/hDsfz61Lth\n",
              "Content: #CagamosPorCulpaDePiñera ¿En serio? \n",
              "¿O sea Piñera nos dijo q no respetáramos las cuarentenas, q saliéramos a compr… https://t.co/hDsfz61Lth\n",
              "Sending tweet: ¿Qué les pasa a los señoros esta semana? ¿Ya se han cansado de cascársela? ¿Os imagináis que fuéramos a sus mencion… https://t.co/uwKtg5vEVF\n",
              "Content: ¿Qué les pasa a los señoros esta semana? ¿Ya se han cansado de cascársela? ¿Os imagináis que fuéramos a sus mencion… https://t.co/uwKtg5vEVF\n",
              "Sending tweet: Y bueno amigos el día de hoy les vengo a contar de mis inicios de prepa. En especifico como hice a mis amiguitos qu… https://t.co/dbtNXZ1VLT\n",
              "Content: Y bueno amigos el día de hoy les vengo a contar de mis inicios de prepa. En especifico como hice a mis amiguitos qu… https://t.co/dbtNXZ1VLT\n",
              "Sending tweet: Ramos, obviamente.\n",
              "Content: Ramos, obviamente.\n",
              "Sending tweet: Otro éxito de este gobierno socialcomunista.\n",
              "Content: Otro éxito de este gobierno socialcomunista.\n",
              "Sending tweet: @MatUcap1891 @nicodelredu La verdad no me acuerdo de eso, lindo viaje, que jóvenes éramos y con pelo\n",
              "Content: @MatUcap1891 @nicodelredu La verdad no me acuerdo de eso, lindo viaje, que jóvenes éramos y con pelo\n",
              "Sending tweet: Vamos a vivir como si estuviéramos en guerra permanente: Byung-Chul Han. https://t.co/AtGOxU7a03 https://t.co/loBHb5qOi4\n",
              "Content: Vamos a vivir como si estuviéramos en guerra permanente: Byung-Chul Han. https://t.co/AtGOxU7a03 https://t.co/loBHb5qOi4\n",
              "Sending tweet: @sharigiron Éramos jóvenes y felices pero no lo sabíamos.\n",
              "Content: @sharigiron Éramos jóvenes y felices pero no lo sabíamos.\n",
              "Sending tweet: @ma_vargas_rubio Por qué decidí abrirme esta cuenta en navidades?Para aportar humildemente en lo que pudiera a la l… https://t.co/E0nt5bqPb9\n",
              "Content: @ma_vargas_rubio Por qué decidí abrirme esta cuenta en navidades?Para aportar humildemente en lo que pudiera a la l… https://t.co/E0nt5bqPb9\n",
              "Sending tweet: Como olvidar cuando Brian dijo yo me encargo de la bebida. Compro 48 latas y éramos 3 😳\n",
              "Content: Como olvidar cuando Brian dijo yo me encargo de la bebida. Compro 48 latas y éramos 3 😳\n",
              "Sending tweet: @Maylenchan Vivan las camisetas que sirven como falda \n",
              "\n",
              "Te puedo enviar la de Ramos talla XXL si te sirve? 🤣🤣\n",
              "Content: @Maylenchan Vivan las camisetas que sirven como falda \n",
              "\n",
              "Te puedo enviar la de Ramos talla XXL si te sirve? 🤣🤣\n",
              "Sending tweet: La suerte que no tengo nunca la he tenido con los tots de la Liga, Sergio Ramos y De Jong en mejora🤪 https://t.co/qFJywqPWRT\n",
              "Content: La suerte que no tengo nunca la he tenido con los tots de la Liga, Sergio Ramos y De Jong en mejora🤪 https://t.co/qFJywqPWRT\n",
              "Sending tweet: Este gobierno es experto en vender humo. Decían que éramos un oasis y PAF!!!! Se vino el estallido social, dejando… https://t.co/PPjBNHx9oq\n",
              "Content: Este gobierno es experto en vender humo. Decían que éramos un oasis y PAF!!!! Se vino el estallido social, dejando… https://t.co/PPjBNHx9oq\n",
              "Sending tweet: @VERONICAMZ_ dónde dice nuestra constitución q somos un estado laico?\n",
              "\n",
              "Colombia es un Estado Aconfesional, es decir… https://t.co/uWo0kwqkGi\n",
              "Content: @VERONICAMZ_ dónde dice nuestra constitución q somos un estado laico?\n",
              "\n",
              "Colombia es un Estado Aconfesional, es decir… https://t.co/uWo0kwqkGi\n",
              "Sending tweet: ✏ &#39;No dudaría&#39;. La opinión en tiempos de #coronavirus de Ramón Ramos  https://t.co/i6HIsnP98R\n",
              "Content: ✏ &#39;No dudaría&#39;. La opinión en tiempos de #coronavirus de Ramón Ramos  https://t.co/i6HIsnP98R\n",
              "Sending tweet: @teamguapostlx Nací en Tlaxcala pero me gustaría que nos viéramos. 😯\n",
              "Content: @teamguapostlx Nací en Tlaxcala pero me gustaría que nos viéramos. 😯\n",
              "Sending tweet: @NeverSayDie300 @Slaanesh_Adria Vamos, montar otro partido político y tener tu parte del pastel. Acabáramos.\n",
              "Content: @NeverSayDie300 @Slaanesh_Adria Vamos, montar otro partido político y tener tu parte del pastel. Acabáramos.\n",
              "Sending tweet: @petrogustavo Si todos fuéramos pobres como en tu amada Cuba no hubiera llegado en avión? Y a Cuba co mo llegó en c… https://t.co/JSuixzrOd4\n",
              "Content: @petrogustavo Si todos fuéramos pobres como en tu amada Cuba no hubiera llegado en avión? Y a Cuba co mo llegó en c… https://t.co/JSuixzrOd4\n",
              "Sending tweet: @fronituits Jajaja me recordaste que hace un tiempo en la pega mandaron un tweet corporativo y que por favor le hic… https://t.co/Fc2nw3K9a8\n",
              "Content: @fronituits Jajaja me recordaste que hace un tiempo en la pega mandaron un tweet corporativo y que por favor le hic… https://t.co/Fc2nw3K9a8\n",
              "Sending tweet: Éramos re valientes!!! https://t.co/3sh5xLz5bA\n",
              "Content: Éramos re valientes!!! https://t.co/3sh5xLz5bA\n",
              "Sending tweet: Si todos hubiéramos seguido bebiendo agua del grifo, no tuviéramos una pandemia\n",
              "Content: Si todos hubiéramos seguido bebiendo agua del grifo, no tuviéramos una pandemia\n",
              "Sending tweet: La inmunidad comunitaria podría ser una buena opción si supiéramos que existe después de contraer el virus. Pero no… https://t.co/ePLcxRXv1R\n",
              "Content: La inmunidad comunitaria podría ser una buena opción si supiéramos que existe después de contraer el virus. Pero no… https://t.co/ePLcxRXv1R\n",
              "Sending tweet: 11)\n",
              "asistencia del rey a la cumbre de Davos, sino que deberían exigir la celebración de un Pleno en el Congreso de… https://t.co/98NnbvqIn3\n",
              "Content: 11)\n",
              "asistencia del rey a la cumbre de Davos, sino que deberían exigir la celebración de un Pleno en el Congreso de… https://t.co/98NnbvqIn3\n",
              "Sending tweet: @Raulmarcos87 @SalvCarisma @ArturoGCampos Si supiéramos que le da al rol, le invitaríamos encantados. Yo tengo un a… https://t.co/qitSipezcX\n",
              "Content: @Raulmarcos87 @SalvCarisma @ArturoGCampos Si supiéramos que le da al rol, le invitaríamos encantados. Yo tengo un a… https://t.co/qitSipezcX\n",
              "Sending tweet: @NeoXide22 Ramos-Varane😍\n",
              "Content: @NeoXide22 Ramos-Varane😍\n",
              "Sending tweet: @SalvadorHalcon @OrigenSeguridad @rockwell_well @PNCSV @Director_PNC @CUERNODEDISCO @93BravoSix @bicho_seco… https://t.co/Ga0eLn9w9G\n",
              "Content: @SalvadorHalcon @OrigenSeguridad @rockwell_well @PNCSV @Director_PNC @CUERNODEDISCO @93BravoSix @bicho_seco… https://t.co/Ga0eLn9w9G\n",
              "Sending tweet: Déjame entrar como antes , cuando tu y yo éramos amantes\n",
              "Content: Déjame entrar como antes , cuando tu y yo éramos amantes\n",
              "Sending tweet: Videollamada | Jorge Ramos, jefe de Noticias de Chaco TV, nos informa sobre la actualidad de la pandemia a nivel in… https://t.co/ZWs8GWNtzl\n",
              "Content: Videollamada | Jorge Ramos, jefe de Noticias de Chaco TV, nos informa sobre la actualidad de la pandemia a nivel in… https://t.co/ZWs8GWNtzl\n",
              "Sending tweet: El árbitro de la final de Champions entre Real Madrid y Atlético: «El gol de Ramos era en fuera de juego» https://t.co/nuAriyOZvH\n",
              "Content: El árbitro de la final de Champions entre Real Madrid y Atlético: «El gol de Ramos era en fuera de juego» https://t.co/nuAriyOZvH\n",
              "Sending tweet: #GraciasMenem\n",
              "Éramos tan felices y no nos da vamos cuenta https://t.co/A8GpnkHJUJ\n",
              "Content: #GraciasMenem\n",
              "Éramos tan felices y no nos da vamos cuenta https://t.co/A8GpnkHJUJ\n",
              "Sending tweet: básicamente yo hasta q llegué a esos ramos en los q si hay q estudiar y me empecé a echar todo KFKSKFKDK\n",
              "\n",
              "*** WARNING: skipped 16024 bytes of output ***\n",
              "\n",
              "Sending tweet: Los empresarios miserables.\n",
              "Content: Los empresarios miserables.\n",
              "Sending tweet: La vida sería tan maravillosa si supiéramos que hacer con ella.\n",
              "-greta garbo\n",
              "Content: La vida sería tan maravillosa si supiéramos que hacer con ella.\n",
              "-greta garbo\n",
              "Sending tweet: Que bonito que seamos tan diferentes, que aburrido sería que a todos nos gustara lo mismo, que fuéramos iguales, si… https://t.co/JgbaDqY7WU\n",
              "Content: Que bonito que seamos tan diferentes, que aburrido sería que a todos nos gustara lo mismo, que fuéramos iguales, si… https://t.co/JgbaDqY7WU\n",
              "Sending tweet: Comparto la transmisión No. 38 en Facebook Live de Ricardo Bours, tuvimos de invitado a Mario Rivas, columnista de… https://t.co/8fTjHUB8vz\n",
              "Content: Comparto la transmisión No. 38 en Facebook Live de Ricardo Bours, tuvimos de invitado a Mario Rivas, columnista de… https://t.co/8fTjHUB8vz\n",
              "Sending tweet: Se perdió una gran oportunidad de realizar sesiones presenciales que garantizaran a la oposición sus derechos de ac… https://t.co/UZ7PBDU4Ev\n",
              "Content: Se perdió una gran oportunidad de realizar sesiones presenciales que garantizaran a la oposición sus derechos de ac… https://t.co/UZ7PBDU4Ev\n",
              "Sending tweet: La solución la tenemos cada uno de nosotros, si fuéramos responsables no habría necesidad q las autoridades tomaran… https://t.co/NzQmzEvC9H\n",
              "Content: La solución la tenemos cada uno de nosotros, si fuéramos responsables no habría necesidad q las autoridades tomaran… https://t.co/NzQmzEvC9H\n",
              "Sending tweet: @Kysucuac A mi me pasó una vez que después de una fiesta pasamos la noche en el APARRÑTAESTUDIO se un amigo, éramos… https://t.co/QgrtOUOCWb\n",
              "Content: @Kysucuac A mi me pasó una vez que después de una fiesta pasamos la noche en el APARRÑTAESTUDIO se un amigo, éramos… https://t.co/QgrtOUOCWb\n",
              "Sending tweet: Sense paraules m&#39;he quedat. #dignitat\n",
              "Content: Sense paraules m&#39;he quedat. #dignitat\n",
              "Sending tweet: 🎶🎤&#34;Porque mis ojos brillan con tu cara, y ahora que no te veo se apagan...&#34; ❣️\n",
              "Content: 🎶🎤&#34;Porque mis ojos brillan con tu cara, y ahora que no te veo se apagan...&#34; ❣️\n",
              "Sending tweet: @david1985martin @VictorMolina7 P.D. Yo digo que se tenía que anular y pitar penalti por agarrón de Savic a Sergio Ramos.\n",
              "Content: @david1985martin @VictorMolina7 P.D. Yo digo que se tenía que anular y pitar penalti por agarrón de Savic a Sergio Ramos.\n",
              "Sending tweet: ¿y después quién? Jajaj guaidó. Capriles. ramos allup por Dios ustedes son lo mismo que maduro\n",
              "Content: ¿y después quién? Jajaj guaidó. Capriles. ramos allup por Dios ustedes son lo mismo que maduro\n",
              "Sending tweet: @Guarromantico_ A veces éramos todo pero en verdad éramos nada... ODIABA eso.\n",
              "Content: @Guarromantico_ A veces éramos todo pero en verdad éramos nada... ODIABA eso.\n",
              "Sending tweet: Podemos creer que hemos superado esto, pero creo que solo se da en la consciencia. Aunque hay mujeres en puestos co… https://t.co/BFvD3KgyEK\n",
              "Content: Podemos creer que hemos superado esto, pero creo que solo se da en la consciencia. Aunque hay mujeres en puestos co… https://t.co/BFvD3KgyEK\n",
              "Sending tweet: Ojalá todos nos uniéramos pra encontrar a las personas que desaparecen a diario en Guate, tal vez así aparecen? Como el perrito 😔\n",
              "Content: Ojalá todos nos uniéramos pra encontrar a las personas que desaparecen a diario en Guate, tal vez así aparecen? Como el perrito 😔\n",
              "Sending tweet: Pensaba que éramos nosotros los únicos en hacernos esa pregunta ? #lavozdeunpueblo https://t.co/shMHJY1Ntg https://t.co/NQ4sJxghz1\n",
              "Content: Pensaba que éramos nosotros los únicos en hacernos esa pregunta ? #lavozdeunpueblo https://t.co/shMHJY1Ntg https://t.co/NQ4sJxghz1\n",
              "Sending tweet: @berthamariaD No se esperaba menos de una persona Inepta como tú 🤷‍♂️ sigan que ahí se mira que son menos de el 1%… https://t.co/ANKrkUyfyR\n",
              "Content: @berthamariaD No se esperaba menos de una persona Inepta como tú 🤷‍♂️ sigan que ahí se mira que son menos de el 1%… https://t.co/ANKrkUyfyR\n",
              "Sending tweet: @MaketoLari @elchiringuitotv Lo del penalty a Ramos antes de marcar en un fuera de juego de media micra lo iba a de… https://t.co/U6nZU7scOW\n",
              "Content: @MaketoLari @elchiringuitotv Lo del penalty a Ramos antes de marcar en un fuera de juego de media micra lo iba a de… https://t.co/U6nZU7scOW\n",
              "Sending tweet: Leer la Biblia y orar trae paz, pero también jugar videojuegos saca el estrés y divierte, lo más sano es hacer depo… https://t.co/ux7uNRjLbk\n",
              "Content: Leer la Biblia y orar trae paz, pero también jugar videojuegos saca el estrés y divierte, lo más sano es hacer depo… https://t.co/ux7uNRjLbk\n",
              "Sending tweet: Salamanca\n",
              "#cayetanos\n",
              "Paper Mario\n",
              "GTA V\n",
              "#LaEspanaQueContagia \n",
              "#Pelis\n",
              "#coronapijos\n",
              "#nunezdebalboa\n",
              "#MasterChef… https://t.co/zOZJU7t341\n",
              "Content: Salamanca\n",
              "#cayetanos\n",
              "Paper Mario\n",
              "GTA V\n",
              "#LaEspanaQueContagia \n",
              "#Pelis\n",
              "#coronapijos\n",
              "#nunezdebalboa\n",
              "#MasterChef… https://t.co/zOZJU7t341\n",
              "Sending tweet: Recrudece guerra entre pandillas. Con el asesinato a tiros  de José Ramos, alias &#34;Musculito&#34;, en Las Garzas, Edgard… https://t.co/Fi720pSKIU\n",
              "Content: Recrudece guerra entre pandillas. Con el asesinato a tiros  de José Ramos, alias &#34;Musculito&#34;, en Las Garzas, Edgard… https://t.co/Fi720pSKIU\n",
              "Sending tweet: @Juan86405731 @Loulogio_Pi Si tú y yo cometiéramos un delito y alegáramos ignorancia, desde la policía hasta el jue… https://t.co/W78OP5j3VU\n",
              "Content: @Juan86405731 @Loulogio_Pi Si tú y yo cometiéramos un delito y alegáramos ignorancia, desde la policía hasta el jue… https://t.co/W78OP5j3VU\n",
              "Sending tweet: Penco en #MuyCAIRadio: &#34;Me llevo muy bien con todos mis ex compañeros de #Independiente. Era un gran grupo, creo qu… https://t.co/KpZ5vsyZbO\n",
              "Content: Penco en #MuyCAIRadio: &#34;Me llevo muy bien con todos mis ex compañeros de #Independiente. Era un gran grupo, creo qu… https://t.co/KpZ5vsyZbO\n",
              "Sending tweet: @emegaston Fase 3, que se parece a la 4, pero que nos va a dejar contagiados como si no estuviéramos tomando medidas.\n",
              "Content: @emegaston Fase 3, que se parece a la 4, pero que nos va a dejar contagiados como si no estuviéramos tomando medidas.\n",
              "Sending tweet: @juustbeelieve Hablan de antis como si no hubiéramos tenido a stan tw riéndose de él por LENTILLAS xd ni que les hiciera falta motivo\n",
              "Content: @juustbeelieve Hablan de antis como si no hubiéramos tenido a stan tw riéndose de él por LENTILLAS xd ni que les hiciera falta motivo\n",
              "Sending tweet: Corrijo la dirección es: oriente 102 esq Sur 115 col . Ramos Millán secc Tlacotal\n",
              "Content: Corrijo la dirección es: oriente 102 esq Sur 115 col . Ramos Millán secc Tlacotal\n",
              "Sending tweet: Hermano guaido mande a joder al coño e su madre a tipos como ramos allup.rosales.capriles.leopoldo.y otros mas.porq… https://t.co/7rEpJwnJ0S\n",
              "Content: Hermano guaido mande a joder al coño e su madre a tipos como ramos allup.rosales.capriles.leopoldo.y otros mas.porq… https://t.co/7rEpJwnJ0S\n",
              "Sending tweet: Mi abuela siempre nos pedía que les diéramos “una monedita”. \n",
              "No es la música, es el recuerdo.\n",
              "Content: Mi abuela siempre nos pedía que les diéramos “una monedita”. \n",
              "No es la música, es el recuerdo.\n",
              "Sending tweet: Antes de esto con mis amiguis éramos tan felices comiendo churrasco y no lo sabíamos, esperen qué ? La verdad sí, s… https://t.co/9wSOr3Ulhv\n",
              "Content: Antes de esto con mis amiguis éramos tan felices comiendo churrasco y no lo sabíamos, esperen qué ? La verdad sí, s… https://t.co/9wSOr3Ulhv\n",
              "Sending tweet: Yo de chiquito no tenía verguenza a lo mejor iba con cualquier individuo y le decía OLA TE GUZTA BEN DIE? Y en el m… https://t.co/jWPozYT6iW\n",
              "Content: Yo de chiquito no tenía verguenza a lo mejor iba con cualquier individuo y le decía OLA TE GUZTA BEN DIE? Y en el m… https://t.co/jWPozYT6iW\n",
              "Sending tweet: Sería excelente si tan solo le hiciéramos caso a nuestros propios consejos.\n",
              "Content: Sería excelente si tan solo le hiciéramos caso a nuestros propios consejos.\n",
              "Sending tweet: Dios provee, pero eso solo lo sabemos las persinas que conocemos la.pobreza...Dios los bendecira siempre.\n",
              "Content: Dios provee, pero eso solo lo sabemos las persinas que conocemos la.pobreza...Dios los bendecira siempre.\n",
              "Sending tweet: El penalti de Pepe era claro. El que le hacen a Ramos antes del fuera de juego, también.\n",
              "Content: El penalti de Pepe era claro. El que le hacen a Ramos antes del fuera de juego, también.\n",
              "Sending tweet: @zomwalruss yo también fui a eventazos en ese lugar, bróder. Lo bueno es que estamos en la mera flor de nuestra juv… https://t.co/uQCJUbfIjL\n",
              "Content: @zomwalruss yo también fui a eventazos en ese lugar, bróder. Lo bueno es que estamos en la mera flor de nuestra juv… https://t.co/uQCJUbfIjL\n",
              "Sending tweet: Me da mucha bronca que antes éramos re 24/7 y ahora si nos preguntamos la hora somos capaz de decir que son 10 horas tarde\n",
              "Content: Me da mucha bronca que antes éramos re 24/7 y ahora si nos preguntamos la hora somos capaz de decir que son 10 horas tarde\n",
              "Sending tweet: @dsantoro59 Qué raro,no te veo defendiendo la libertad de expresión como cuando Alejo Ramos Padilla te imputó como… https://t.co/VzzK4lQdRr\n",
              "Content: @dsantoro59 Qué raro,no te veo defendiendo la libertad de expresión como cuando Alejo Ramos Padilla te imputó como… https://t.co/VzzK4lQdRr\n",
              "Sending tweet: @AdriRM33 Éramos todos felices, ellos como jugadores, nosotros como afición y el mundo por ver ese fútbol que despl… https://t.co/tjiYVHNbe1\n",
              "Content: @AdriRM33 Éramos todos felices, ellos como jugadores, nosotros como afición y el mundo por ver ese fútbol que despl… https://t.co/tjiYVHNbe1\n",
              "Sending tweet: Van Dijk só pelo nojo que tenho do Sergio Ramos\n",
              "Content: Van Dijk só pelo nojo que tenho do Sergio Ramos\n",
              "Sending tweet: ¿Se imaginan que en los 80&#39;s cuando hubo el boom del VIH/SIDA, hubiéramos hecho esto?\n",
              "\n",
              "Literal que nos hubiéramos e… https://t.co/xCgFrnHc2L\n",
              "Content: ¿Se imaginan que en los 80&#39;s cuando hubo el boom del VIH/SIDA, hubiéramos hecho esto?\n",
              "\n",
              "Literal que nos hubiéramos e… https://t.co/xCgFrnHc2L\n",
              "Sending tweet: Evitaríamos tantos errores si supiéramos elegir a una persona con nuestra misma edad mental.\n",
              "Content: Evitaríamos tantos errores si supiéramos elegir a una persona con nuestra misma edad mental.\n",
              "Sending tweet: @rasek9 @ElMonoConMangas @ady @lourdesadriana Dice Facebook que estos éramos nosotros hace 8 años 🥺... Éramos felic… https://t.co/wpsgUbb2sk\n",
              "Content: @rasek9 @ElMonoConMangas @ady @lourdesadriana Dice Facebook que estos éramos nosotros hace 8 años 🥺... Éramos felic… https://t.co/wpsgUbb2sk\n",
              "Sending tweet: Lo de siempre, son de la misma especie.\n",
              "Content: Lo de siempre, son de la misma especie.\n",
              "Sending tweet: @estoyderonda @paseamosjuntos Pues ya podían haberlo anticipado 20 días y no haber minimizado (está todo grabado),… https://t.co/rz4C1IlETh\n",
              "Content: @estoyderonda @paseamosjuntos Pues ya podían haberlo anticipado 20 días y no haber minimizado (está todo grabado),… https://t.co/rz4C1IlETh\n",
              "Sending tweet: El árbitro de la final de la Champions de 2016 admite que el gol de Ramos era ilegal https://t.co/ckDnb488Py\n",
              "Content: El árbitro de la final de la Champions de 2016 admite que el gol de Ramos era ilegal https://t.co/ckDnb488Py\n",
              "Sending tweet: Es cierto, la toma de conciencia es primordial para q entiendan q el gob y la oposición toda van de la mano ! Traid… https://t.co/StCN2OZ9ia\n",
              "Content: Es cierto, la toma de conciencia es primordial para q entiendan q el gob y la oposición toda van de la mano ! Traid… https://t.co/StCN2OZ9ia\n",
              "Sending tweet: @elchiringuitotv La camiseta de Ramos era así de ancha😂😂\n",
              "Joder,ni los raperos!\n",
              "Parece una sábana,del tirón del defensa Atlético.\n",
              "Content: @elchiringuitotv La camiseta de Ramos era así de ancha😂😂\n",
              "Joder,ni los raperos!\n",
              "Parece una sábana,del tirón del defensa Atlético.\n",
              "Sending tweet: @CabaSinmiedo @loba_indomable @LPueblo2 @juan3pueblo @CaballeroMaicol Y también habían gente inocente todo el teatr… https://t.co/D9Uyt8w6K2\n",
              "Content: @CabaSinmiedo @loba_indomable @LPueblo2 @juan3pueblo @CaballeroMaicol Y también habían gente inocente todo el teatr… https://t.co/D9Uyt8w6K2\n",
              "Sending tweet: @jaimenebotsaadi señor nebot reviva esta frases por favor las malvinas sur ciudad estamos abandonado queremos kit f… https://t.co/38ySSyrk2u\n",
              "Content: @jaimenebotsaadi señor nebot reviva esta frases por favor las malvinas sur ciudad estamos abandonado queremos kit f… https://t.co/38ySSyrk2u\n",
              "Sending tweet: Entonces, siempre que Ev debía viajar, yo le decía tipo “daddy, tráeme algo” y los muchachos hacían lo mismo, sin i… https://t.co/560c3OA21m\n",
              "Content: Entonces, siempre que Ev debía viajar, yo le decía tipo “daddy, tráeme algo” y los muchachos hacían lo mismo, sin i… https://t.co/560c3OA21m\n",
              "Sending tweet: Ramos\n",
              "Content: Ramos\n",
              "Sending tweet: Podemos creer que hemos superado esto, pero creo que solo se da en la consciencia. Aunque hay mujeres en puestos co… https://t.co/EpT8KjE66l\n",
              "Content: Podemos creer que hemos superado esto, pero creo que solo se da en la consciencia. Aunque hay mujeres en puestos co… https://t.co/EpT8KjE66l\n",
              "Sending tweet: @ElNefelibato JAJAJAJAJA NO VES LOS BOCADITOS WE ? \n",
              "Querían que fuéramos pero nel, mi gfa sí quería ir pero al fina… https://t.co/4jAQot4t1T\n",
              "Content: @ElNefelibato JAJAJAJAJA NO VES LOS BOCADITOS WE ? \n",
              "Querían que fuéramos pero nel, mi gfa sí quería ir pero al fina… https://t.co/4jAQot4t1T\n",
              "Sending tweet: @elchiringuitotv No bla bla fue gol va 😎✌sergio ramos\n",
              "Content: @elchiringuitotv No bla bla fue gol va 😎✌sergio ramos\n",
              "Sending tweet: @vinifan7I7 si Ramos igualmente marcaria de ultimo minuto\n",
              "Content: @vinifan7I7 si Ramos igualmente marcaria de ultimo minuto\n",
              "Sending tweet: #CubaSeráLibre desde #MUAD y @CUBADECIDE Reinaldo Ramos Ruiz, positivo de COVID-19, DENUNCIA MALAS CONDICIONES en H… https://t.co/oO2k6BQwMc\n",
              "Content: #CubaSeráLibre desde #MUAD y @CUBADECIDE Reinaldo Ramos Ruiz, positivo de COVID-19, DENUNCIA MALAS CONDICIONES en H… https://t.co/oO2k6BQwMc\n",
              "Sending tweet: Si tuviéramos Empatía... Todo sería diferente y no haríamos cosas que no quisiéramos que nos hagan. \n",
              "\n",
              "#FelizJueves https://t.co/Cg3BdRP8kk\n",
              "Content: Si tuviéramos Empatía... Todo sería diferente y no haríamos cosas que no quisiéramos que nos hagan. \n",
              "\n",
              "#FelizJueves https://t.co/Cg3BdRP8kk\n",
              "Sending tweet: No se que éramos.... Pero eras mi felicidad.\n",
              "Content: No se que éramos.... Pero eras mi felicidad.\n",
              "Sending tweet: ÉRAMOS felices y no lo sabiamos\n",
              "Content: ÉRAMOS felices y no lo sabiamos\n",
              "Sending tweet: @CDN37 En vez de estudiarla y ver si funciona o no. Si funcionara y curáramos el pais de esta desgracia, fuéramos e… https://t.co/f7vHjfXHMn\n",
              "Content: @CDN37 En vez de estudiarla y ver si funciona o no. Si funcionara y curáramos el pais de esta desgracia, fuéramos e… https://t.co/f7vHjfXHMn\n",
              "Sending tweet: @IdiazAyuso Porque ha metido otra vez a Cataluña de por medio como si tuviéramos favoritismos en la desescalada???.… https://t.co/prlxc1zw0A\n",
              "Content: @IdiazAyuso Porque ha metido otra vez a Cataluña de por medio como si tuviéramos favoritismos en la desescalada???.… https://t.co/prlxc1zw0A\n",
              "Sending tweet: @JavierSolorzano Si verdad, pero que bien estábamos gobernados en sexenios anteriores a AMLO, éramos “felices “ y n… https://t.co/LEfouMYweA\n",
              "Content: @JavierSolorzano Si verdad, pero que bien estábamos gobernados en sexenios anteriores a AMLO, éramos “felices “ y n… https://t.co/LEfouMYweA\n",
              "Sending tweet: Re siome sí, pero ahora extraño a los michis de Ramos\n",
              "Content: Re siome sí, pero ahora extraño a los michis de Ramos\n",
              "Sending tweet: Éramos buenos, que nos paso?\n",
              "Content: Éramos buenos, que nos paso?\n",
              "Sending tweet: @LaVanguardia Yo se le diré a María Ángeles. Los españoles somos capaces en una situación d pandemia tan grave como… https://t.co/7ctc1DdhC6\n",
              "Content: @LaVanguardia Yo se le diré a María Ángeles. Los españoles somos capaces en una situación d pandemia tan grave como… https://t.co/7ctc1DdhC6\n",
              "Sending tweet: A mi lo que dijo Clattenburg me da igual. Es más, el que sale perjudicado es él, por dar a entender que el penalti… https://t.co/u52k2WNSDu\n",
              "Content: A mi lo que dijo Clattenburg me da igual. Es más, el que sale perjudicado es él, por dar a entender que el penalti… https://t.co/u52k2WNSDu\n",
              "Sending tweet: Con la simio flayamos que pasaría si ambas viviéramos juntas en una casa JUJUJU AY MAMÁ!!!!! 🥳🥳\n",
              "Content: Con la simio flayamos que pasaría si ambas viviéramos juntas en una casa JUJUJU AY MAMÁ!!!!! 🥳🥳\n",
              "Sending tweet: @emaciasm @uncuadros @ArchivoTRC &#34;When we were lions&#34; Cuando éramos leones, antes de que dominaran las hienas carroñeras.\n",
              "Content: @emaciasm @uncuadros @ArchivoTRC &#34;When we were lions&#34; Cuando éramos leones, antes de que dominaran las hienas carroñeras.\n",
              "Sending tweet: Ramos\n",
              "Content: Ramos\n",
              "Sending tweet: Si aplicáramos el concepto “no lo vimos venir” al fútbol...\n",
              "\n",
              "¿Qué momentos, partidos, torneos se te vienen a la cab… https://t.co/IWbBQdpDay\n",
              "Content: Si aplicáramos el concepto “no lo vimos venir” al fútbol...\n",
              "\n",
              "¿Qué momentos, partidos, torneos se te vienen a la cab… https://t.co/IWbBQdpDay\n",
              "Sending tweet: #tbt IEK 012 en sus inicios ! No hay forma de negar que fue un gran comienzo en la facultad , Se extraña bastantes… https://t.co/MDKqMn9bQA\n",
              "Content: #tbt IEK 012 en sus inicios ! No hay forma de negar que fue un gran comienzo en la facultad , Se extraña bastantes… https://t.co/MDKqMn9bQA\n",
              "Sending tweet: Que levanten las manos quienes tienen biblioteca en su casa!!!!!\n",
              "Content: Que levanten las manos quienes tienen biblioteca en su casa!!!!!\n",
              "Sending tweet: Ven mi amor. Ahora que llueve. Vamos a dar saltos sobre los charcos, como cuando éramos niños. Dame tu mano. Y siga… https://t.co/RXZtiab6HY\n",
              "Content: Ven mi amor. Ahora que llueve. Vamos a dar saltos sobre los charcos, como cuando éramos niños. Dame tu mano. Y siga… https://t.co/RXZtiab6HY\n",
              "Sending tweet: Yo también, no veo a ramos tocar el balón ⚽\n",
              "Content: Yo también, no veo a ramos tocar el balón ⚽\n",
              "Sending tweet: Y me dejaba a sus hermanos en la sala y yo les decía ahorita vengo voy  a salir y me decían vamos y ibamos y ella i… https://t.co/wIF3iqdTEd\n",
              "Content: Y me dejaba a sus hermanos en la sala y yo les decía ahorita vengo voy  a salir y me decían vamos y ibamos y ella i… https://t.co/wIF3iqdTEd\n",
              "Sending tweet: La profesora nos puso como trabajo final, sustentar como si estuviéramos en un audiciencia de verdad y estaba re ca… https://t.co/fOzS3Tu1t2\n",
              "Content: La profesora nos puso como trabajo final, sustentar como si estuviéramos en un audiciencia de verdad y estaba re ca… https://t.co/fOzS3Tu1t2\n",
              "Sending tweet: Así estuviéramos en esta cuarentena 😏😭\n",
              "Viendo a @j_medina37\n",
              "Pero te freseas My love 😆😏🤦🏻‍♀️\n",
              "#JorgeMedinaValeOro… https://t.co/B5QSn3djJ5\n",
              "Content: Así estuviéramos en esta cuarentena 😏😭\n",
              "Viendo a @j_medina37\n",
              "Pero te freseas My love 😆😏🤦🏻‍♀️\n",
              "#JorgeMedinaValeOro… https://t.co/B5QSn3djJ5\n",
              "Sending tweet: @ninjamackerel @Isabel_rilwen @Ehrion En cuanto deje de llover, a la calle!\n",
              "Como si fuéramos caracoles XDDD https://t.co/n3MsHYXmtn\n",
              "Content: @ninjamackerel @Isabel_rilwen @Ehrion En cuanto deje de llover, a la calle!\n",
              "Como si fuéramos caracoles XDDD https://t.co/n3MsHYXmtn\n",
              "Sending tweet: @palabrafilica Son los mismos que dicen que extrañan a los otros bajo cualquiera de las máximas:\n",
              "\n",
              "&#34;Éramos felices y… https://t.co/sgmfC6T5Je\n",
              "Content: @palabrafilica Son los mismos que dicen que extrañan a los otros bajo cualquiera de las máximas:\n",
              "\n",
              "&#34;Éramos felices y… https://t.co/sgmfC6T5Je\n",
              "Sending tweet: @antonioprosperi Deben estar contentos Ramos Allup,Borges y Rosales , ganaron ellos perdimos nosotros\n",
              "Content: @antonioprosperi Deben estar contentos Ramos Allup,Borges y Rosales , ganaron ellos perdimos nosotros\n",
              "Sending tweet: @nefeerr No... si fuéramos todos obispos tendríamos los hijos se llamarían sobrinos...\n",
              "Content: @nefeerr No... si fuéramos todos obispos tendríamos los hijos se llamarían sobrinos...\n",
              "Sending tweet: https://t.co/WlkcFFEpHo cuando salió todos éramos felices\n",
              "Content: https://t.co/WlkcFFEpHo cuando salió todos éramos felices\n",
              "Sending tweet: Éramos demasiado mala conducta, pero siempre te defendían más a vos. JAJAJAJAJA\n",
              "Content: Éramos demasiado mala conducta, pero siempre te defendían más a vos. JAJAJAJAJA\n",
              "Sending tweet: Cierto, ese penalti que le están haciendo a Ramos en esa misma foto y el penalti regalado al Atlético para &#34;compens… https://t.co/yV9pOCNmCa\n",
              "Content: Cierto, ese penalti que le están haciendo a Ramos en esa misma foto y el penalti regalado al Atlético para &#34;compens… https://t.co/yV9pOCNmCa\n",
              "Sending tweet: @AS_Manolete pero este tío no estaba mejor recolectando espárragos, y que quieres inutilidad faltaba un corner os r… https://t.co/K1hPglLHOF\n",
              "Content: @AS_Manolete pero este tío no estaba mejor recolectando espárragos, y que quieres inutilidad faltaba un corner os r… https://t.co/K1hPglLHOF\n",
              "Sending tweet: @lnformante507 @Pelencho50 Que barbaros 52.4% de la crisis de la CSS son los proveedores los culpables y el Estado… https://t.co/sBsu5dDmtA\n",
              "Content: @lnformante507 @Pelencho50 Que barbaros 52.4% de la crisis de la CSS son los proveedores los culpables y el Estado… https://t.co/sBsu5dDmtA\n",
              "Sending tweet: Despliegue  la brigada elite de salud municipio obispo ramos de lora gracias  trabajo  conjunto medico cubano Sv ffm https://t.co/YewOzcAcFP\n",
              "Content: Despliegue  la brigada elite de salud municipio obispo ramos de lora gracias  trabajo  conjunto medico cubano Sv ffm https://t.co/YewOzcAcFP\n",
              "Sending tweet: Es que si quitáramos el confinamiento de golpe habrían tantos contagios en un espacio de tiempo tan pequeño que el… https://t.co/4P22nYOOOw\n",
              "Content: Es que si quitáramos el confinamiento de golpe habrían tantos contagios en un espacio de tiempo tan pequeño que el… https://t.co/4P22nYOOOw\n",
              "Sending tweet: @berthamariaD Que bajeza. Cada día me sorprende más.  Ojalá supiéramos dónde vive para que entienda lo que es una protesta.\n",
              "Content: @berthamariaD Que bajeza. Cada día me sorprende más.  Ojalá supiéramos dónde vive para que entienda lo que es una protesta.\n",
              "Sending tweet: Otro punto son sus stories de Instagram en los viajes que hace con él. Ella tiene todo el derecho del mundo a subir… https://t.co/9gq0MKMQjc\n",
              "Content: Otro punto son sus stories de Instagram en los viajes que hace con él. Ella tiene todo el derecho del mundo a subir… https://t.co/9gq0MKMQjc\n",
              "Sending tweet: si no te importé cuando éramos amigos menos te voy a importar ahora jjajasjajjajsjajajja noesgracioso\n",
              "Content: si no te importé cuando éramos amigos menos te voy a importar ahora jjajasjajjajsjajajja noesgracioso\n",
              "Sending tweet: @REBECAF58430998 Hola Rebeca Porque Jorge Ramos un don nadie en México y ahora Loret llegan aquí a USA a envenenar… https://t.co/sNZXgEEB7l\n",
              "Content: @REBECAF58430998 Hola Rebeca Porque Jorge Ramos un don nadie en México y ahora Loret llegan aquí a USA a envenenar… https://t.co/sNZXgEEB7l\n",
              "Sending tweet: @omarellano19 Habla del penal de Pepe al niño torres por que la había cagado en el gol de Ramos en claro fuera de lugar\n",
              "Content: @omarellano19 Habla del penal de Pepe al niño torres por que la había cagado en el gol de Ramos en claro fuera de lugar\n",
              "Sending tweet: @nefeerr No... si todos fuéramos obispos todos los hijos pasarían a llamarse sobrinos...\n",
              "Content: @nefeerr No... si todos fuéramos obispos todos los hijos pasarían a llamarse sobrinos...\n",
              "Sending tweet: CLATTENBURG ASUME SU ERROR: &#34;EL GOL DE RAMOS ERA FUERA DE JUEGO&#34; :: El Contraataque https://t.co/HIAZj8lE39… https://t.co/zki4SkOlSd\n",
              "Content: CLATTENBURG ASUME SU ERROR: &#34;EL GOL DE RAMOS ERA FUERA DE JUEGO&#34; :: El Contraataque https://t.co/HIAZj8lE39… https://t.co/zki4SkOlSd\n",
              "Sending tweet: Ya basta que se le trate\n",
              "al artista con desprecio\n",
              "poniendo un ínfimo precio\n",
              "para que se le contrate\n",
              "Cual si fuéramo… https://t.co/3zWEZ3ie4b\n",
              "Content: Ya basta que se le trate\n",
              "al artista con desprecio\n",
              "poniendo un ínfimo precio\n",
              "para que se le contrate\n",
              "Cual si fuéramo… https://t.co/3zWEZ3ie4b\n",
              "Sending tweet: @MickeytheKid92 Sólo jugaba un par de tardes a la semana, éramos muy sanos\n",
              "Content: @MickeytheKid92 Sólo jugaba un par de tardes a la semana, éramos muy sanos\n",
              "Sending tweet: @RicardoLombanaG Y con una planilla ya inflada y muchos con salarios astronómicos🤷🏻‍♂️.\n",
              "\n",
              "Es como si todos tuviéramo… https://t.co/5ppt0nIzam\n",
              "Content: @RicardoLombanaG Y con una planilla ya inflada y muchos con salarios astronómicos🤷🏻‍♂️.\n",
              "\n",
              "Es como si todos tuviéramo… https://t.co/5ppt0nIzam\n",
              "Sending tweet: A mantener la cuarentena hasta junio @LoroHomero salvará vidas y le agradecerán muchas familias quiteñas, utilice i… https://t.co/9vvEDQ6e0o\n",
              "Content: A mantener la cuarentena hasta junio @LoroHomero salvará vidas y le agradecerán muchas familias quiteñas, utilice i… https://t.co/9vvEDQ6e0o\n",
              "Sending tweet: La profesora nos puso como trabajo final, sustentar como si estuviéramos en un audiciencia de verdad y estaba re ca… https://t.co/Ksg3rdEJxI\n",
              "Content: La profesora nos puso como trabajo final, sustentar como si estuviéramos en un audiciencia de verdad y estaba re ca… https://t.co/Ksg3rdEJxI\n",
              "Sending tweet: yo soy esa mejor amiga 🥰\n",
              "Content: yo soy esa mejor amiga 🥰\n",
              "Sending tweet: @TVicenticoo éramos felices y no lo sabíamos !!!\n",
              "Content: @TVicenticoo éramos felices y no lo sabíamos !!!\n",
              "</div>"
            ]
          },
          "metadata": {
            "tags": []
          }
        }
      ]
    },
    {
      "cell_type": "code",
      "metadata": {
        "id": "3kciohK1dJ8p"
      },
      "source": [
        ""
      ],
      "execution_count": null,
      "outputs": []
    }
  ]
}